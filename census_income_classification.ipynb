{
 "cells": [
  {
   "cell_type": "markdown",
   "metadata": {},
   "source": [
    "## Problem Statement"
   ]
  },
  {
   "cell_type": "code",
   "execution_count": 5,
   "metadata": {},
   "outputs": [],
   "source": [
    "# Prediction task is to determine the income level for the person\n",
    "# Incomes have been below/above 50k"
   ]
  },
  {
   "cell_type": "markdown",
   "metadata": {},
   "source": [
    "## Hypotheses Generation"
   ]
  },
  {
   "cell_type": "code",
   "execution_count": 6,
   "metadata": {},
   "outputs": [],
   "source": [
    "# There exists significant impacts of the variables (below) on the dependent variable.\n",
    "\n",
    "# Age\n",
    "# Marital Status\n",
    "# Family Members\n",
    "# No. of Dependents\n",
    "# Tax Paid\n",
    "# Investment (Mutual Fund, Stock)\n",
    "# Return from Investments\n",
    "# Education\n",
    "# Spouse Education\n",
    "# Nationality\n",
    "# Occupation\n",
    "# Region in US\n",
    "### Year started working (cycles of the U.S. economy)\n",
    "# Race\n",
    "# Occupation category"
   ]
  },
  {
   "cell_type": "code",
   "execution_count": null,
   "metadata": {},
   "outputs": [],
   "source": []
  },
  {
   "cell_type": "markdown",
   "metadata": {},
   "source": [
    "## EDA"
   ]
  },
  {
   "cell_type": "markdown",
   "metadata": {},
   "source": [
    "#### Load the datasets"
   ]
  },
  {
   "cell_type": "code",
   "execution_count": 7,
   "metadata": {},
   "outputs": [],
   "source": [
    "import pandas as pd"
   ]
  },
  {
   "cell_type": "code",
   "execution_count": 8,
   "metadata": {},
   "outputs": [],
   "source": [
    "train_df = pd.read_csv('train.csv')\n",
    "test_df = pd.read_csv('test.csv')"
   ]
  },
  {
   "cell_type": "code",
   "execution_count": 6,
   "metadata": {},
   "outputs": [
    {
     "data": {
      "text/plain": [
       "(199523, 41)"
      ]
     },
     "execution_count": 6,
     "metadata": {},
     "output_type": "execute_result"
    }
   ],
   "source": [
    "train_df.shape"
   ]
  },
  {
   "cell_type": "code",
   "execution_count": 7,
   "metadata": {},
   "outputs": [
    {
     "data": {
      "text/plain": [
       "(99762, 41)"
      ]
     },
     "execution_count": 7,
     "metadata": {},
     "output_type": "execute_result"
    }
   ],
   "source": [
    "test_df.shape"
   ]
  },
  {
   "cell_type": "code",
   "execution_count": 8,
   "metadata": {},
   "outputs": [
    {
     "data": {
      "text/html": [
       "<div>\n",
       "<table border=\"1\" class=\"dataframe\">\n",
       "  <thead>\n",
       "    <tr style=\"text-align: right;\">\n",
       "      <th></th>\n",
       "      <th>age</th>\n",
       "      <th>class_of_worker</th>\n",
       "      <th>industry_code</th>\n",
       "      <th>occupation_code</th>\n",
       "      <th>education</th>\n",
       "      <th>wage_per_hour</th>\n",
       "      <th>enrolled_in_edu_inst_lastwk</th>\n",
       "      <th>marital_status</th>\n",
       "      <th>major_industry_code</th>\n",
       "      <th>major_occupation_code</th>\n",
       "      <th>...</th>\n",
       "      <th>country_father</th>\n",
       "      <th>country_mother</th>\n",
       "      <th>country_self</th>\n",
       "      <th>citizenship</th>\n",
       "      <th>business_or_self_employed</th>\n",
       "      <th>fill_questionnaire_veteran_admin</th>\n",
       "      <th>veterans_benefits</th>\n",
       "      <th>weeks_worked_in_year</th>\n",
       "      <th>year</th>\n",
       "      <th>income_level</th>\n",
       "    </tr>\n",
       "  </thead>\n",
       "  <tbody>\n",
       "    <tr>\n",
       "      <th>0</th>\n",
       "      <td>73</td>\n",
       "      <td>Not in universe</td>\n",
       "      <td>0</td>\n",
       "      <td>0</td>\n",
       "      <td>High school graduate</td>\n",
       "      <td>0</td>\n",
       "      <td>Not in universe</td>\n",
       "      <td>Widowed</td>\n",
       "      <td>Not in universe or children</td>\n",
       "      <td>Not in universe</td>\n",
       "      <td>...</td>\n",
       "      <td>United-States</td>\n",
       "      <td>United-States</td>\n",
       "      <td>United-States</td>\n",
       "      <td>Native- Born in the United States</td>\n",
       "      <td>0</td>\n",
       "      <td>Not in universe</td>\n",
       "      <td>2</td>\n",
       "      <td>0</td>\n",
       "      <td>95</td>\n",
       "      <td>-50000</td>\n",
       "    </tr>\n",
       "    <tr>\n",
       "      <th>1</th>\n",
       "      <td>58</td>\n",
       "      <td>Self-employed-not incorporated</td>\n",
       "      <td>4</td>\n",
       "      <td>34</td>\n",
       "      <td>Some college but no degree</td>\n",
       "      <td>0</td>\n",
       "      <td>Not in universe</td>\n",
       "      <td>Divorced</td>\n",
       "      <td>Construction</td>\n",
       "      <td>Precision production craft &amp; repair</td>\n",
       "      <td>...</td>\n",
       "      <td>United-States</td>\n",
       "      <td>United-States</td>\n",
       "      <td>United-States</td>\n",
       "      <td>Native- Born in the United States</td>\n",
       "      <td>0</td>\n",
       "      <td>Not in universe</td>\n",
       "      <td>2</td>\n",
       "      <td>52</td>\n",
       "      <td>94</td>\n",
       "      <td>-50000</td>\n",
       "    </tr>\n",
       "    <tr>\n",
       "      <th>2</th>\n",
       "      <td>18</td>\n",
       "      <td>Not in universe</td>\n",
       "      <td>0</td>\n",
       "      <td>0</td>\n",
       "      <td>10th grade</td>\n",
       "      <td>0</td>\n",
       "      <td>High school</td>\n",
       "      <td>Never married</td>\n",
       "      <td>Not in universe or children</td>\n",
       "      <td>Not in universe</td>\n",
       "      <td>...</td>\n",
       "      <td>Vietnam</td>\n",
       "      <td>Vietnam</td>\n",
       "      <td>Vietnam</td>\n",
       "      <td>Foreign born- Not a citizen of U S</td>\n",
       "      <td>0</td>\n",
       "      <td>Not in universe</td>\n",
       "      <td>2</td>\n",
       "      <td>0</td>\n",
       "      <td>95</td>\n",
       "      <td>-50000</td>\n",
       "    </tr>\n",
       "  </tbody>\n",
       "</table>\n",
       "<p>3 rows × 41 columns</p>\n",
       "</div>"
      ],
      "text/plain": [
       "   age                 class_of_worker  industry_code  occupation_code  \\\n",
       "0   73                 Not in universe              0                0   \n",
       "1   58  Self-employed-not incorporated              4               34   \n",
       "2   18                 Not in universe              0                0   \n",
       "\n",
       "                    education  wage_per_hour enrolled_in_edu_inst_lastwk  \\\n",
       "0        High school graduate              0             Not in universe   \n",
       "1  Some college but no degree              0             Not in universe   \n",
       "2                  10th grade              0                 High school   \n",
       "\n",
       "  marital_status          major_industry_code  \\\n",
       "0        Widowed  Not in universe or children   \n",
       "1       Divorced                 Construction   \n",
       "2  Never married  Not in universe or children   \n",
       "\n",
       "                 major_occupation_code     ...      country_father  \\\n",
       "0                      Not in universe     ...       United-States   \n",
       "1  Precision production craft & repair     ...       United-States   \n",
       "2                      Not in universe     ...             Vietnam   \n",
       "\n",
       "  country_mother   country_self                         citizenship  \\\n",
       "0  United-States  United-States   Native- Born in the United States   \n",
       "1  United-States  United-States   Native- Born in the United States   \n",
       "2        Vietnam        Vietnam  Foreign born- Not a citizen of U S   \n",
       "\n",
       "  business_or_self_employed fill_questionnaire_veteran_admin  \\\n",
       "0                         0                  Not in universe   \n",
       "1                         0                  Not in universe   \n",
       "2                         0                  Not in universe   \n",
       "\n",
       "   veterans_benefits  weeks_worked_in_year  year income_level  \n",
       "0                  2                     0    95       -50000  \n",
       "1                  2                    52    94       -50000  \n",
       "2                  2                     0    95       -50000  \n",
       "\n",
       "[3 rows x 41 columns]"
      ]
     },
     "execution_count": 8,
     "metadata": {},
     "output_type": "execute_result"
    }
   ],
   "source": [
    "train_df.head(3)"
   ]
  },
  {
   "cell_type": "code",
   "execution_count": 9,
   "metadata": {},
   "outputs": [
    {
     "data": {
      "text/html": [
       "<div>\n",
       "<table border=\"1\" class=\"dataframe\">\n",
       "  <thead>\n",
       "    <tr style=\"text-align: right;\">\n",
       "      <th></th>\n",
       "      <th>age</th>\n",
       "      <th>class_of_worker</th>\n",
       "      <th>industry_code</th>\n",
       "      <th>occupation_code</th>\n",
       "      <th>education</th>\n",
       "      <th>wage_per_hour</th>\n",
       "      <th>enrolled_in_edu_inst_lastwk</th>\n",
       "      <th>marital_status</th>\n",
       "      <th>major_industry_code</th>\n",
       "      <th>major_occupation_code</th>\n",
       "      <th>...</th>\n",
       "      <th>country_father</th>\n",
       "      <th>country_mother</th>\n",
       "      <th>country_self</th>\n",
       "      <th>citizenship</th>\n",
       "      <th>business_or_self_employed</th>\n",
       "      <th>fill_questionnaire_veteran_admin</th>\n",
       "      <th>veterans_benefits</th>\n",
       "      <th>weeks_worked_in_year</th>\n",
       "      <th>year</th>\n",
       "      <th>income_level</th>\n",
       "    </tr>\n",
       "  </thead>\n",
       "  <tbody>\n",
       "    <tr>\n",
       "      <th>0</th>\n",
       "      <td>38</td>\n",
       "      <td>Private</td>\n",
       "      <td>6</td>\n",
       "      <td>36</td>\n",
       "      <td>1st 2nd 3rd or 4th grade</td>\n",
       "      <td>0</td>\n",
       "      <td>Not in universe</td>\n",
       "      <td>Married-civilian spouse present</td>\n",
       "      <td>Manufacturing-durable goods</td>\n",
       "      <td>Machine operators assmblrs &amp; inspctrs</td>\n",
       "      <td>...</td>\n",
       "      <td>Mexico</td>\n",
       "      <td>Mexico</td>\n",
       "      <td>Mexico</td>\n",
       "      <td>Foreign born- Not a citizen of U S</td>\n",
       "      <td>0</td>\n",
       "      <td>Not in universe</td>\n",
       "      <td>2</td>\n",
       "      <td>12</td>\n",
       "      <td>95</td>\n",
       "      <td>-50000</td>\n",
       "    </tr>\n",
       "    <tr>\n",
       "      <th>1</th>\n",
       "      <td>44</td>\n",
       "      <td>Self-employed-not incorporated</td>\n",
       "      <td>37</td>\n",
       "      <td>12</td>\n",
       "      <td>Associates degree-occup /vocational</td>\n",
       "      <td>0</td>\n",
       "      <td>Not in universe</td>\n",
       "      <td>Married-civilian spouse present</td>\n",
       "      <td>Business and repair services</td>\n",
       "      <td>Professional specialty</td>\n",
       "      <td>...</td>\n",
       "      <td>United-States</td>\n",
       "      <td>United-States</td>\n",
       "      <td>United-States</td>\n",
       "      <td>Native- Born in the United States</td>\n",
       "      <td>0</td>\n",
       "      <td>Not in universe</td>\n",
       "      <td>2</td>\n",
       "      <td>26</td>\n",
       "      <td>95</td>\n",
       "      <td>-50000</td>\n",
       "    </tr>\n",
       "    <tr>\n",
       "      <th>2</th>\n",
       "      <td>2</td>\n",
       "      <td>Not in universe</td>\n",
       "      <td>0</td>\n",
       "      <td>0</td>\n",
       "      <td>Children</td>\n",
       "      <td>0</td>\n",
       "      <td>Not in universe</td>\n",
       "      <td>Never married</td>\n",
       "      <td>Not in universe or children</td>\n",
       "      <td>Not in universe</td>\n",
       "      <td>...</td>\n",
       "      <td>United-States</td>\n",
       "      <td>United-States</td>\n",
       "      <td>United-States</td>\n",
       "      <td>Native- Born in the United States</td>\n",
       "      <td>0</td>\n",
       "      <td>Not in universe</td>\n",
       "      <td>0</td>\n",
       "      <td>0</td>\n",
       "      <td>95</td>\n",
       "      <td>-50000</td>\n",
       "    </tr>\n",
       "  </tbody>\n",
       "</table>\n",
       "<p>3 rows × 41 columns</p>\n",
       "</div>"
      ],
      "text/plain": [
       "   age                  class_of_worker  industry_code  occupation_code  \\\n",
       "0   38                          Private              6               36   \n",
       "1   44   Self-employed-not incorporated             37               12   \n",
       "2    2                  Not in universe              0                0   \n",
       "\n",
       "                              education  wage_per_hour  \\\n",
       "0              1st 2nd 3rd or 4th grade              0   \n",
       "1   Associates degree-occup /vocational              0   \n",
       "2                              Children              0   \n",
       "\n",
       "  enrolled_in_edu_inst_lastwk                    marital_status  \\\n",
       "0             Not in universe   Married-civilian spouse present   \n",
       "1             Not in universe   Married-civilian spouse present   \n",
       "2             Not in universe                     Never married   \n",
       "\n",
       "             major_industry_code                   major_occupation_code  \\\n",
       "0    Manufacturing-durable goods   Machine operators assmblrs & inspctrs   \n",
       "1   Business and repair services                  Professional specialty   \n",
       "2    Not in universe or children                         Not in universe   \n",
       "\n",
       "      ...       country_father  country_mother    country_self  \\\n",
       "0     ...               Mexico          Mexico          Mexico   \n",
       "1     ...        United-States   United-States   United-States   \n",
       "2     ...        United-States   United-States   United-States   \n",
       "\n",
       "                            citizenship business_or_self_employed  \\\n",
       "0   Foreign born- Not a citizen of U S                          0   \n",
       "1     Native- Born in the United States                         0   \n",
       "2     Native- Born in the United States                         0   \n",
       "\n",
       "  fill_questionnaire_veteran_admin  veterans_benefits  weeks_worked_in_year  \\\n",
       "0                  Not in universe                  2                    12   \n",
       "1                  Not in universe                  2                    26   \n",
       "2                  Not in universe                  0                     0   \n",
       "\n",
       "   year income_level  \n",
       "0    95       -50000  \n",
       "1    95       -50000  \n",
       "2    95       -50000  \n",
       "\n",
       "[3 rows x 41 columns]"
      ]
     },
     "execution_count": 9,
     "metadata": {},
     "output_type": "execute_result"
    }
   ],
   "source": [
    "test_df.head(3)"
   ]
  },
  {
   "cell_type": "code",
   "execution_count": 1,
   "metadata": {},
   "outputs": [],
   "source": [
    "# 2. scatter plot (How to separate different classes?)"
   ]
  },
  {
   "cell_type": "code",
   "execution_count": 9,
   "metadata": {},
   "outputs": [
    {
     "data": {
      "text/plain": [
       "Text(0.5,0,'age')"
      ]
     },
     "execution_count": 9,
     "metadata": {},
     "output_type": "execute_result"
    },
    {
     "data": {
      "image/png": "[encoded data removed]",
      "text/plain": [
       "<matplotlib.figure.Figure at 0x24260483128>"
      ]
     },
     "metadata": {},
     "output_type": "display_data"
    }
   ],
   "source": [
    "import matplotlib.pyplot as plt\n",
    "# Setup matplotlib to display in notebook:\n",
    "%matplotlib inline\n",
    "\n",
    "plt.scatter(train_df.age, train_df.wage_per_hour)\n",
    "\n",
    "plt.legend(fontsize=10)\n",
    "plt.xticks(fontsize = 20)\n",
    "plt.title('age vs. wage_per_hour', fontsize = 20)\n",
    "ax = plt.gca()\n",
    "handles, labels = ax.get_legend_handles_labels()\n",
    "ax.legend(handles, labels)\n",
    "ax.legend(loc = \"upper left\", fontsize = 14)\n",
    "ax.set_ylabel(\"wage/hour\", fontsize = 20)\n",
    "ax.set_xlabel('age', fontsize = 20)"
   ]
  },
  {
   "cell_type": "code",
   "execution_count": null,
   "metadata": {
    "collapsed": true
   },
   "outputs": [],
   "source": []
  },
  {
   "cell_type": "markdown",
   "metadata": {
    "collapsed": true
   },
   "source": [
    "## Import the test dataset and training datasets obtained with various resampling techniques from the R file."
   ]
  },
  {
   "cell_type": "code",
   "execution_count": 1,
   "metadata": {
    "collapsed": true
   },
   "outputs": [],
   "source": [
    "from sklearn.metrics import classification_report, confusion_matrix, accuracy_score\n",
    "from sklearn.cross_validation import train_test_split, StratifiedShuffleSplit\n",
    "from sklearn.linear_model import LogisticRegression, LogisticRegressionCV\n",
    "from sklearn.grid_search import GridSearchCV\n",
    "from sklearn.metrics import roc_curve, auc\n",
    "import statsmodels.api as sm\n",
    "import pandas as pd\n",
    "import numpy as np\n",
    "import matplotlib.pyplot as plt\n",
    "%matplotlib inline\n",
    "from sklearn.metrics import roc_auc_score"
   ]
  },
  {
   "cell_type": "code",
   "execution_count": 2,
   "metadata": {},
   "outputs": [],
   "source": [
    "orig_df = pd.read_csv(\"census_orig.csv\")\n",
    "rose_df = pd.read_csv(\"census_rose.csv\")\n",
    "smote_df = pd.read_csv(\"census_smote.csv\")\n",
    "under_df = pd.read_csv(\"census_under.csv\")\n",
    "over_df = pd.read_csv(\"census_over.csv\")\n",
    "test_df = pd.read_csv(\"test.csv\")\n",
    "orig_df.drop(\"Unnamed: 0\", axis = 1, inplace = True)\n",
    "rose_df.drop(\"Unnamed: 0\", axis = 1, inplace = True)\n",
    "smote_df.drop(\"Unnamed: 0\", axis = 1, inplace = True)\n",
    "under_df.drop(\"Unnamed: 0\", axis = 1, inplace = True)\n",
    "over_df.drop(\"Unnamed: 0\", axis = 1, inplace = True)\n",
    "test_df.drop(\"Unnamed: 0\", axis = 1, inplace = True)"
   ]
  },
  {
   "cell_type": "code",
   "execution_count": 3,
   "metadata": {
    "scrolled": true
   },
   "outputs": [
    {
     "data": {
      "text/plain": [
       "0    93576\n",
       "1     6186\n",
       "Name: income_level, dtype: int64"
      ]
     },
     "execution_count": 3,
     "metadata": {},
     "output_type": "execute_result"
    }
   ],
   "source": [
    "test_df.income_level.value_counts()"
   ]
  },
  {
   "cell_type": "markdown",
   "metadata": {},
   "source": [
    "### Train the Classifier"
   ]
  },
  {
   "cell_type": "code",
   "execution_count": 4,
   "metadata": {},
   "outputs": [],
   "source": [
    "feature_list = orig_df.columns.values.tolist()"
   ]
  },
  {
   "cell_type": "code",
   "execution_count": 5,
   "metadata": {},
   "outputs": [],
   "source": [
    "cat_feature_list = list(set(feature_list) - set(orig_df._get_numeric_data().columns.values.tolist()))"
   ]
  },
  {
   "cell_type": "code",
   "execution_count": 6,
   "metadata": {},
   "outputs": [],
   "source": [
    "def get_dummy_func(df):\n",
    "    df_new = df[['num_person_Worked_employer', 'year']]\n",
    "    for category in cat_feature_list:\n",
    "        series = df[category]\n",
    "        dummies = pd.get_dummies(series, prefix=category)\n",
    "        df_new = pd.concat([df_new, dummies], axis=1)\n",
    "    return df_new"
   ]
  },
  {
   "cell_type": "code",
   "execution_count": 7,
   "metadata": {
    "collapsed": true
   },
   "outputs": [],
   "source": [
    "orig = get_dummy_func(orig_df)\n",
    "under = get_dummy_func(under_df)\n",
    "over = get_dummy_func(over_df)\n",
    "smote = get_dummy_func(smote_df)\n",
    "rose = get_dummy_func(rose_df)\n",
    "test = get_dummy_func(test_df)"
   ]
  },
  {
   "cell_type": "code",
   "execution_count": 34,
   "metadata": {},
   "outputs": [],
   "source": []
  },
  {
   "cell_type": "code",
   "execution_count": 8,
   "metadata": {},
   "outputs": [
    {
     "data": {
      "text/plain": [
       "(99762, 104)"
      ]
     },
     "execution_count": 8,
     "metadata": {},
     "output_type": "execute_result"
    }
   ],
   "source": [
    "np.shape(test.values)"
   ]
  },
  {
   "cell_type": "code",
   "execution_count": 16,
   "metadata": {},
   "outputs": [],
   "source": [
    "def do_cm_cr(model, X_train, y_train, X_test, y_test, names):\n",
    "    model.fit(X_train, y_train)\n",
    "    y_pred = model.predict(X_test)\n",
    "#     y_score = model.decision_function(X_test)\n",
    "    y_proba_score = model.predict_proba(X_test)\n",
    "\n",
    "\n",
    "    FPR, TPR, thresholds = roc_curve(y_test, y_proba_score[:,1])\n",
    "    ROC_AUC_orig = auc(FPR, TPR)\n",
    "    if ROC_AUC_orig > 0.5:\n",
    "        ROC_AUC = ROC_AUC_orig\n",
    "    else:\n",
    "        print \"Classifier Flipped\"\n",
    "        y_pred = 1 - y_pred\n",
    "        y_proba_score = 1- y_proba_score\n",
    "        ROC_AUC = 1 - ROC_AUC_orig\n",
    "    \n",
    "    print \"AUC is:\", ROC_AUC, \"\\n\"\n",
    "\n",
    "    print \"Classification Report: \\n\", (classification_report(y_test, y_pred)), \"\\n\"\n",
    "\n",
    "    print \"Confusion Matrix: \\n\"\n",
    "    confmat = confusion_matrix(y_test, y_pred)\n",
    "    idx = ['Negative', 'Positive']\n",
    "    col = ['Predicted Negative', 'Predicted Positive']\n",
    "    print pd.DataFrame(confmat, index=idx, columns=col), \"\\n\"\n",
    "\n",
    "    \n",
    "    TN = confmat[0][0]\n",
    "    FP = confmat[0][1]\n",
    "    FN = confmat[1][0]\n",
    "    TP = confmat[1][1]\n",
    "    TPR = float(TP)/(TP+FN)\n",
    "    TNR = float(TN)/(TN+FP)\n",
    "\n",
    "    print \"True Positive Rate is: %f\" %TPR\n",
    "    print \"True Negative Rate is: %f\" %TNR\n"
   ]
  },
  {
   "cell_type": "code",
   "execution_count": null,
   "metadata": {
    "collapsed": true
   },
   "outputs": [],
   "source": []
  },
  {
   "cell_type": "code",
   "execution_count": 17,
   "metadata": {},
   "outputs": [
    {
     "name": "stderr",
     "output_type": "stream",
     "text": [
      "/home/fei/anaconda2/envs/gl-env/lib/python2.7/site-packages/sklearn/utils/validation.py:515: DataConversionWarning: A column-vector y was passed when a 1d array was expected. Please change the shape of y to (n_samples, ), for example using ravel().\n",
      "  y = column_or_1d(y, warn=True)\n"
     ]
    },
    {
     "name": "stdout",
     "output_type": "stream",
     "text": [
      "AUC is: 0.931593009036 \n",
      "\n",
      "Classification Report: \n",
      "             precision    recall  f1-score   support\n",
      "\n",
      "          0       0.96      0.99      0.97     93576\n",
      "          1       0.65      0.31      0.42      6186\n",
      "\n",
      "avg / total       0.94      0.95      0.94     99762\n",
      "\n",
      "\n",
      "Confusion Matrix: \n",
      "\n",
      "          Predicted Negative  Predicted Positive\n",
      "Negative               92573                1003\n",
      "Positive                4294                1892 \n",
      "\n",
      "True Positive Rate is: 0.305852\n",
      "True Negative Rate is: 0.989281\n"
     ]
    }
   ],
   "source": [
    "logreg = LogisticRegression()\n",
    "do_cm_cr(logreg, orig.values, orig_df[[-1]], test.values, test_df[[-1]], ['0', '1'])"
   ]
  },
  {
   "cell_type": "code",
   "execution_count": 24,
   "metadata": {},
   "outputs": [
    {
     "data": {
      "text/plain": [
       "0.651685393258427"
      ]
     },
     "execution_count": 24,
     "metadata": {},
     "output_type": "execute_result"
    }
   ],
   "source": [
    "(89-31)/float(89)"
   ]
  },
  {
   "cell_type": "code",
   "execution_count": 22,
   "metadata": {},
   "outputs": [
    {
     "name": "stderr",
     "output_type": "stream",
     "text": [
      "/home/fei/anaconda2/envs/gl-env/lib/python2.7/site-packages/sklearn/utils/validation.py:515: DataConversionWarning: A column-vector y was passed when a 1d array was expected. Please change the shape of y to (n_samples, ), for example using ravel().\n",
      "  y = column_or_1d(y, warn=True)\n"
     ]
    },
    {
     "name": "stdout",
     "output_type": "stream",
     "text": [
      "AUC is: 0.931567172096 \n",
      "\n",
      "Classification Report: \n",
      "             precision    recall  f1-score   support\n",
      "\n",
      "          0       0.99      0.83      0.90     93576\n",
      "          1       0.25      0.89      0.39      6186\n",
      "\n",
      "avg / total       0.95      0.83      0.87     99762\n",
      "\n",
      "\n",
      "Confusion Matrix: \n",
      "\n",
      "          Predicted Negative  Predicted Positive\n",
      "Negative               77283               16293\n",
      "Positive                 692                5494 \n",
      "\n",
      "True Positive Rate is: 0.888134\n",
      "True Negative Rate is: 0.825885\n"
     ]
    }
   ],
   "source": [
    "logreg = LogisticRegression()\n",
    "do_cm_cr(logreg, rose.values, rose_df[[-1]], test.values, test_df[[-1]], ['0', '1'])"
   ]
  },
  {
   "cell_type": "code",
   "execution_count": null,
   "metadata": {
    "collapsed": true
   },
   "outputs": [],
   "source": []
  },
  {
   "cell_type": "code",
   "execution_count": 18,
   "metadata": {},
   "outputs": [
    {
     "name": "stderr",
     "output_type": "stream",
     "text": [
      "/home/fei/anaconda2/envs/gl-env/lib/python2.7/site-packages/sklearn/utils/validation.py:515: DataConversionWarning: A column-vector y was passed when a 1d array was expected. Please change the shape of y to (n_samples, ), for example using ravel().\n",
      "  y = column_or_1d(y, warn=True)\n"
     ]
    },
    {
     "name": "stdout",
     "output_type": "stream",
     "text": [
      "Classifier Flipped\n",
      "AUC is: 0.930312798716 \n",
      "\n",
      "Classification Report: \n",
      "             precision    recall  f1-score   support\n",
      "\n",
      "          0       0.96      0.99      0.97     93576\n",
      "          1       0.65      0.31      0.42      6186\n",
      "\n",
      "avg / total       0.94      0.95      0.94     99762\n",
      "\n",
      "\n",
      "Confusion Matrix: \n",
      "\n",
      "          Predicted Negative  Predicted Positive\n",
      "Negative               92536                1040\n",
      "Positive                4287                1899 \n",
      "\n",
      "True Positive Rate is: 0.306984\n",
      "True Negative Rate is: 0.988886\n"
     ]
    }
   ],
   "source": [
    "logreg = LogisticRegression()\n",
    "do_cm_cr(logreg, smote.values, smote_df[[-1]], test.values, test_df[[-1]], ['0', '1'])"
   ]
  },
  {
   "cell_type": "code",
   "execution_count": null,
   "metadata": {
    "collapsed": true
   },
   "outputs": [],
   "source": []
  },
  {
   "cell_type": "code",
   "execution_count": 20,
   "metadata": {},
   "outputs": [
    {
     "name": "stderr",
     "output_type": "stream",
     "text": [
      "/home/fei/anaconda2/envs/gl-env/lib/python2.7/site-packages/sklearn/utils/validation.py:515: DataConversionWarning: A column-vector y was passed when a 1d array was expected. Please change the shape of y to (n_samples, ), for example using ravel().\n",
      "  y = column_or_1d(y, warn=True)\n"
     ]
    },
    {
     "name": "stdout",
     "output_type": "stream",
     "text": [
      "Classifier Flipped\n",
      "AUC is: 0.931453115381 \n",
      "\n",
      "Classification Report: \n",
      "             precision    recall  f1-score   support\n",
      "\n",
      "          0       0.99      0.87      0.92     93576\n",
      "          1       0.29      0.83      0.44      6186\n",
      "\n",
      "avg / total       0.94      0.87      0.89     99762\n",
      "\n",
      "\n",
      "Confusion Matrix: \n",
      "\n",
      "          Predicted Negative  Predicted Positive\n",
      "Negative               81284               12292\n",
      "Positive                1049                5137 \n",
      "\n",
      "True Positive Rate is: 0.830424\n",
      "True Negative Rate is: 0.868642\n"
     ]
    }
   ],
   "source": [
    "logreg = LogisticRegression()\n",
    "do_cm_cr(logreg, under.values, under_df[[-1]], test.values, test_df[[-1]], ['0', '1'])"
   ]
  },
  {
   "cell_type": "code",
   "execution_count": null,
   "metadata": {
    "collapsed": true
   },
   "outputs": [],
   "source": []
  },
  {
   "cell_type": "code",
   "execution_count": 21,
   "metadata": {},
   "outputs": [
    {
     "name": "stderr",
     "output_type": "stream",
     "text": [
      "/home/fei/anaconda2/envs/gl-env/lib/python2.7/site-packages/sklearn/utils/validation.py:515: DataConversionWarning: A column-vector y was passed when a 1d array was expected. Please change the shape of y to (n_samples, ), for example using ravel().\n",
      "  y = column_or_1d(y, warn=True)\n"
     ]
    },
    {
     "name": "stdout",
     "output_type": "stream",
     "text": [
      "Classifier Flipped\n",
      "AUC is: 0.93159864683 \n",
      "\n",
      "Classification Report: \n",
      "             precision    recall  f1-score   support\n",
      "\n",
      "          0       0.99      0.83      0.90     93576\n",
      "          1       0.25      0.89      0.39      6186\n",
      "\n",
      "avg / total       0.95      0.83      0.87     99762\n",
      "\n",
      "\n",
      "Confusion Matrix: \n",
      "\n",
      "          Predicted Negative  Predicted Positive\n",
      "Negative               77433               16143\n",
      "Positive                 710                5476 \n",
      "\n",
      "True Positive Rate is: 0.885225\n",
      "True Negative Rate is: 0.827488\n"
     ]
    }
   ],
   "source": [
    "logreg = LogisticRegression()\n",
    "do_cm_cr(logreg, over.values, over_df[[-1]], test.values, test_df[[-1]], ['0', '1'])"
   ]
  }
 ],
 "metadata": {
  "kernelspec": {
   "display_name": "Python 3",
   "language": "python",
   "name": "python3"
  },
  "language_info": {
   "codemirror_mode": {
    "name": "ipython",
    "version": 3
   },
   "file_extension": ".py",
   "mimetype": "text/x-python",
   "name": "python",
   "nbconvert_exporter": "python",
   "pygments_lexer": "ipython3",
   "version": "3.6.4"
  }
 },
 "nbformat": 4,
 "nbformat_minor": 1
}
